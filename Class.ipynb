{
 "cells": [
  {
   "cell_type": "code",
   "execution_count": 17,
   "metadata": {},
   "outputs": [
    {
     "name": "stdout",
     "output_type": "stream",
     "text": [
      "Number of users:50\n",
      "Number of books:5\n",
      "Total price:1000\n",
      "enter 0 in book name to stop\n",
      "enter 0 in username to stop\n",
      "User's name:None\n",
      "Book:ab\n",
      "Book price:300\n",
      "User's name:ahj\n",
      "Book:None\n",
      "Book price:None\n",
      "Number of users:51\n",
      "Number of books:6\n",
      "Total price:1300\n"
     ]
    }
   ],
   "source": [
    "class Library:\n",
    "    no_books=5\n",
    "    no_users=50\n",
    "    t_book_price=1000\n",
    "    def __init__(self,username,book_name,book_price):\n",
    "        self.book_name=book_name\n",
    "        self.book_price=book_price\n",
    "        self.username=username\n",
    "        if(self.book_name!=None):\n",
    "            Library.no_books+=1\n",
    "        if(self.username!=None):\n",
    "            Library.no_users+=1\n",
    "        if(self.book_price!=None):\n",
    "            Library.t_book_price+=book_price\n",
    "    def user_disp(self):\n",
    "        return(f\"User's name:{self.username}\")\n",
    "    def book_disp(self):\n",
    "        return(f'Book:{self.book_name}\\nBook price:{self.book_price}')\n",
    "\n",
    "print(f'Number of users:{Library.no_users}\\nNumber of books:{Library.no_books}\\nTotal price:{Library.t_book_price}')\n",
    "lib=[]\n",
    "print('enter 0 in book name to stop')\n",
    "while True:\n",
    "    bn=input('Enter book name:')\n",
    "    if bn=='0':break\n",
    "    bp=int(input('Enter book price:'))\n",
    "    lib.append(Library(None,bn,bp))\n",
    "print('enter 0 in username to stop')\n",
    "while True:\n",
    "    un=input('Enter username:')\n",
    "    if un=='0':break\n",
    "    lib.append(Library(un,None,None))\n",
    "for i in lib:\n",
    "    print(i.user_disp())\n",
    "    print(i.book_disp())\n",
    "print(f'Number of users:{Library.no_users}\\nNumber of books:{Library.no_books}\\nTotal price:{Library.t_book_price}')"
   ]
  },
  {
   "cell_type": "code",
   "execution_count": 27,
   "metadata": {},
   "outputs": [
    {
     "name": "stdout",
     "output_type": "stream",
     "text": [
      "enter 0 in id to stop\n",
      "College name:HITK\n",
      "Total number of students:1\n",
      "ID     Name   Sub1   Sub2   Sub3   Average   Grade\n",
      "1      AAA     90     90      9     63.0      C\n"
     ]
    }
   ],
   "source": [
    "class Student:\n",
    "    college_name='HITK'\n",
    "    student_count=0\n",
    "    def __init__(self,stdid,name,sub1,sub2,sub3,avg,grd):\n",
    "        self.stdid=stdid\n",
    "        self.name=name\n",
    "        self.sub1=sub1\n",
    "        self.sub2=sub2\n",
    "        self.sub3=sub3\n",
    "        self.avg=avg\n",
    "        self.grd=grd\n",
    "        if(self.stdid!=None and self.name!=None):\n",
    "            Student.student_count+=1\n",
    "    def display(self):\n",
    "        return(f'{self.stdid}      {self.name}     {self.sub1}     {self.sub2}      {self.sub3}     {self.avg}      {self.grd}')\n",
    "std=[]\n",
    "print('enter 0 in id to stop')\n",
    "while True:\n",
    "    id=int(input('Enter id:'))\n",
    "    if id==0:break\n",
    "    n=input('Enter name:')\n",
    "    m1=int(input('Enter marks 1:'))\n",
    "    m2=int(input('Enter marks 2:'))\n",
    "    m3=int(input('Enter marks 3:'))\n",
    "    av=(m1+m2+m3)/3\n",
    "    if(av>=90):gr='O'\n",
    "    elif(av<90 and av>=80):gr='A'\n",
    "    elif(av<80 and av>=70):gr='B'\n",
    "    elif(av<80 and av>=70):gr='B'\n",
    "    elif(av<70 and av>=60):gr='C'\n",
    "    elif(av<60 and av>=50):gr='D'\n",
    "    else:gr='F'\n",
    "    std.append(Student(id,n,m1,m2,m3,av,gr))\n",
    "print(f'College name:{Student.college_name}\\nTotal number of students:{Student.student_count}')\n",
    "print('ID     Name   Sub1   Sub2   Sub3   Average   Grade')\n",
    "for i in std:\n",
    "    print(i.display())\n",
    "    \n",
    "\n"
   ]
  },
  {
   "cell_type": "code",
   "execution_count": 11,
   "metadata": {},
   "outputs": [
    {
     "name": "stdout",
     "output_type": "stream",
     "text": [
      "Point(1, 3)\n",
      "Point(3, 4)\n",
      "Point(4, 7)\n",
      "Point(-2, -1)\n",
      "Point(3, 9)\n",
      "Point(1.5, 2.0)\n",
      "Point(1, 2)\n",
      "Point(1, 9)\n",
      "True\n",
      "True\n",
      "False\n",
      "False\n"
     ]
    }
   ],
   "source": [
    "class Point:\n",
    "    def __init__(self, x, y): self.x,self.y=x,y\n",
    "\n",
    "    def __str__(self): return f\"Point({self.x}, {self.y})\"\n",
    "    \n",
    "    def __add__(self,p): return Point(self.x + p.x, self.y + p.y)\n",
    "        \n",
    "    def __sub__(self, p): return Point(self.x - p.x, self.y - p.y)\n",
    "        \n",
    "    def __mul__(self, p): return Point(self.x * p, self.y * p)\n",
    "    \n",
    "    def __truediv__(self, p): return Point(self.x / p, self.y / p)\n",
    "    \n",
    "    def __floordiv__(self, p): return Point(self.x // p, self.y // p)\n",
    "    \n",
    "    def __pow__(self, p): return Point(self.x ** p, self.y ** p)\n",
    "    \n",
    "    def __lt__(self, p): return (self.x, self.y) < (p.x, p.y)\n",
    "    \n",
    "    def __le__(self, p): return (self.x, self.y) <= (p.x, p.y)\n",
    "    \n",
    "    def __eq__(self, p): return self.x == p.x and self.y == p.y\n",
    "\n",
    "    def __gt__(self, p): return (self.x, self.y) > (p.x, p.y)\n",
    "# Example usage\n",
    "p1,p2 = Point(1, 3),Point(3, 4)\n",
    "\n",
    "print(f'{p1}\\n{p2}\\n{p1 + p2}\\n{p1 - p2}\\n{p1 * 3}\\n{p2 / 2}\\n{p2 // 2}\\n{p1 ** 2}\\n{p1 < p2}\\n{p1 <= p2}\\n{p1 == p2}\\n{p1 > p2}')\n"
   ]
  },
  {
   "cell_type": "code",
   "execution_count": 29,
   "metadata": {},
   "outputs": [
    {
     "name": "stdout",
     "output_type": "stream",
     "text": [
      "enter 0 in name to stop\n",
      "Name:a\n",
      "Designation:r\n",
      "Salary:3000\n",
      "Name:b\n",
      "Designation:y\n",
      "Salary:4000\n",
      "Number of employees: 2\n"
     ]
    }
   ],
   "source": [
    "class Employee:\n",
    "    emp_count=0\n",
    "    def __init__(self,name,desig,salary):\n",
    "        self.name=name\n",
    "        self.desig=desig\n",
    "        self.salary=salary\n",
    "        Employee.emp_count+=1\n",
    "    def display(self):\n",
    "        return(f'Name:{self.name}\\nDesignation:{self.desig}\\nSalary:{self.salary}')\n",
    "emp=[]\n",
    "print('enter 0 in name to stop')\n",
    "while True:\n",
    "    n=input('Enter name:')\n",
    "    if n=='0':break\n",
    "    d=input('Enter designation:')\n",
    "    s=int(input('Enter salary:'))\n",
    "    emp.append(Employee(n,d,s))\n",
    "for i in emp:\n",
    "    print(i.display())\n",
    "print('Total number of employees:',Employee.emp_count)"
   ]
  },
  {
   "cell_type": "code",
   "execution_count": 12,
   "metadata": {},
   "outputs": [
    {
     "name": "stdout",
     "output_type": "stream",
     "text": [
      "Name of faculty:Pooja Singh\n",
      "Age:48\n",
      "Gender:Female\n",
      "Designation:HOD\n",
      "Department:CSE\n",
      "No of research papers published:5\n",
      "No of book chapters published:2\n",
      "No of articles published:2\n"
     ]
    }
   ],
   "source": [
    "class Person:\n",
    "    def __init__(self,name,age,gender):\n",
    "        self.name=name\n",
    "        self.age=age\n",
    "        self.gender=gender\n",
    "class Publication:\n",
    "    def __init__(self,no_rp,no_book,no_art):\n",
    "        self.no_rp=no_rp\n",
    "        self.no_book=no_book\n",
    "        self.no_art=no_art\n",
    "class Faculty(Person,Publication):\n",
    "    def __init__(self,name,age,gender,desig,dept,no_rp,no_book,no_art):\n",
    "        Person.__init__(self,name,age,gender)\n",
    "        Publication.__init__(self,no_rp,no_book,no_art)\n",
    "        self.desig=desig\n",
    "        self.dept=dept\n",
    "    def display(self):\n",
    "        return(f'Name of faculty:{self.name}\\nAge:{self.age}\\nGender:{self.gender}\\nDesignation:{self.desig}\\nDepartment:{self.dept}\\nNo of research papers published:{self.no_rp}\\nNo of book chapters published:{self.no_book}\\nNo of articles published:{self.no_art}')\n",
    "'''\n",
    "info=[Faculty('Pooja Singh',48,'Female',\"HOD\",'CSE',5,2,2)]\n",
    "print('enter 0 in name to stop')\n",
    "while True:\n",
    "    n=input('enter name:')\n",
    "    if n=='0' : break\n",
    "    a=int(input('enter age:'))\n",
    "    g=input('enter gender:')\n",
    "    des=input('enter desig:')\n",
    "    dep=input('enter dept:')\n",
    "    nr=int(input('enter no rp:'))\n",
    "    nb=int(input('enter no books:'))\n",
    "    na=int(input('enter no art:'))\n",
    "    info.append(Faculty(n,a,g,des,dep,nr,nb,na))\n",
    "for i in info:\n",
    "    print(i.display())\n",
    "'''\n",
    "i=Faculty('Pooja Singh',48,'Female',\"HOD\",'CSE',5,2,2)\n",
    "print(i.display())"
   ]
  },
  {
   "cell_type": "markdown",
   "metadata": {},
   "source": [
    "generator"
   ]
  },
  {
   "cell_type": "code",
   "execution_count": 1,
   "metadata": {},
   "outputs": [
    {
     "name": "stdout",
     "output_type": "stream",
     "text": [
      "2\n",
      "3\n",
      "5\n",
      "7\n",
      "11\n",
      "13\n",
      "17\n",
      "19\n",
      "23\n",
      "29\n"
     ]
    }
   ],
   "source": [
    "def is_prime(num):\n",
    "    \"\"\"Helper function to check if a number is prime.\"\"\"\n",
    "    if num < 2:\n",
    "        return False\n",
    "    for i in range(2, int(num ** 0.5) + 1):\n",
    "        if num % i == 0:\n",
    "            return False\n",
    "    return True\n",
    "\n",
    "def prime_generator(n):\n",
    "    \"\"\"Generator function to yield the first n prime numbers.\"\"\"\n",
    "    count = 0  # Number of primes found\n",
    "    num = 2    # Start checking for primes from 2\n",
    "    \n",
    "    while count < n:\n",
    "        if is_prime(num):\n",
    "            yield num\n",
    "            count += 1\n",
    "        num += 1\n",
    "\n",
    "# Example usage: Generate the first 10 prime numbers\n",
    "primes = prime_generator(10)\n",
    "for prime in primes:\n",
    "    print(prime)\n"
   ]
  },
  {
   "cell_type": "code",
   "execution_count": 8,
   "metadata": {},
   "outputs": [
    {
     "name": "stdout",
     "output_type": "stream",
     "text": [
      "2\n",
      "3\n",
      "5\n",
      "7\n",
      "11\n",
      "13\n",
      "17\n",
      "19\n",
      "23\n",
      "29\n",
      "31\n",
      "37\n",
      "41\n"
     ]
    }
   ],
   "source": [
    "def is_p_prime(num):\n",
    "    if num<2: return False\n",
    "    for i in range(2,int(num/2)+1):\n",
    "        if num%i==0: return False\n",
    "    return True\n",
    "def primed(n):\n",
    "    count=0\n",
    "    num=2\n",
    "    while (count<n):\n",
    "        if is_p_prime(num):\n",
    "            yield num\n",
    "            count+=1\n",
    "        num+=1\n",
    "primes=primed(13)\n",
    "for j in primes:\n",
    "    print(j)\n"
   ]
  },
  {
   "cell_type": "code",
   "execution_count": null,
   "metadata": {},
   "outputs": [],
   "source": []
  }
 ],
 "metadata": {
  "kernelspec": {
   "display_name": "Python 3",
   "language": "python",
   "name": "python3"
  },
  "language_info": {
   "codemirror_mode": {
    "name": "ipython",
    "version": 3
   },
   "file_extension": ".py",
   "mimetype": "text/x-python",
   "name": "python",
   "nbconvert_exporter": "python",
   "pygments_lexer": "ipython3",
   "version": "3.11.4"
  }
 },
 "nbformat": 4,
 "nbformat_minor": 2
}
