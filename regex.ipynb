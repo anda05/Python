{
 "cells": [
  {
   "cell_type": "markdown",
   "metadata": {},
   "source": [
    "# REGEX"
   ]
  },
  {
   "cell_type": "code",
   "execution_count": 1,
   "metadata": {},
   "outputs": [
    {
     "name": "stdout",
     "output_type": "stream",
     "text": [
      "{'o': 1, 's': 1, 'd': 2, 'n': 1, 'a': 3, 'I': 1, 'r': 1, '!': 3, 'i': 1, 'e': 1, 'm': 1, 'c': 2}\n"
     ]
    }
   ],
   "source": [
    "def count_letters(alpha):\n",
    "    l=[]\n",
    "    for i in set(alpha):\n",
    "        l.append(alpha.count(i))\n",
    "    d=dict(zip(set(alpha),l))\n",
    "    return d\n",
    "S=input('Enter text:')\n",
    "s=list(S.replace(\" \",\"\"))\n",
    "x=count_letters(s)\n",
    "print(x)"
   ]
  },
  {
   "cell_type": "code",
   "execution_count": 43,
   "metadata": {},
   "outputs": [
    {
     "name": "stdout",
     "output_type": "stream",
     "text": [
      "Total number of lines containing 'def' or 'for': 2\n"
     ]
    }
   ],
   "source": [
    "file_path=input(\"Enter your file name: \")\n",
    "count=0\n",
    "try:\n",
    "    with open(file_path,'r') as file:\n",
    "        for line in file:\n",
    "            words=line.split()\n",
    "            if 'def' in words or 'for' in words:\n",
    "                    count += 1\n",
    "        print(f\"Total number of lines containing 'def' or 'for': {count}\")\n",
    "except FileNotFoundError:\n",
    "    print(\"Error: file not found\") \n"
   ]
  },
  {
   "cell_type": "code",
   "execution_count": 45,
   "metadata": {},
   "outputs": [
    {
     "name": "stdout",
     "output_type": "stream",
     "text": [
      "All lower case characters alphabetically between 'a' and 'm': ['d', 'e', 'e', 'e', 'f', 'h', 'l', 'l', 'l', 'l']\n",
      "All lower case characters excluding 'a' to 'm': ['o', 'o', 's', 't', 'u', 'n', 't', 's', 'o']\n",
      "All digit characters:  ['2', '0', '2', '4']\n",
      "All digit characters:  ['2', '0', '2', '4']\n",
      "Sequence that starts with \"he\", followed by 2 (any) characters, and an \"o\": ['hello']\n",
      "Sequence that starts with \"he\", followed by 0 or more (any) characters, and an \"o\": ['hello']\n",
      "sequence that starts with \"He\", followed by 1 or more (any) characters, and an \"o\": ['Hello']\n",
      "Sequence that starts with \"He\", followed by exactly 2 (any) characters, and an \"o\": ['Hello']\n"
     ]
    }
   ],
   "source": [
    "import re\n",
    "txt='Hello hello students of AIML 2024'\n",
    "print(\"All lower case characters alphabetically between 'a' and 'm':\", sorted(re.findall(r'[a-m]',txt)))\n",
    "print(\"All lower case characters excluding 'a' to 'm':\", re.findall(r'[n-z]',txt))\n",
    "print(\"All digit characters: \", re.findall(r'\\d',txt))\n",
    "print(\"All digit characters: \", re.findall(r'[0-9]',txt))\n",
    "print('Sequence that starts with \"he\", followed by 2 (any) characters, and an \"o\":', re.findall(r'he..o',txt))\n",
    "print('Sequence that starts with \"he\", followed by 0 or more (any) characters, and an \"o\":', re.findall(r'he.*?o',txt))\n",
    "print('sequence that starts with \"He\", followed by 1 or more (any) characters, and an \"o\":', re.findall(r'He.+?o',txt))\n",
    "print('Sequence that starts with \"He\", followed by exactly 2 (any) characters, and an \"o\":', re.findall(r'He..o',txt))\n"
   ]
  },
  {
   "cell_type": "code",
   "execution_count": 29,
   "metadata": {},
   "outputs": [
    {
     "name": "stdout",
     "output_type": "stream",
     "text": [
      "This is a lab assignment based on Regular expression.\n",
      "\n",
      "I am doing it.\n",
      "\n",
      "This is very easy.\n",
      "\n",
      "This is very helpful for understanding Regular expression.\n",
      "Lines starting with 'This' have been copied to 'dest.txt' with 'This' replaced by 'That'.\n"
     ]
    }
   ],
   "source": [
    "with open('test.txt', 'r') as source_file, open('dest.txt', 'w') as dest_file:\n",
    "    for line in source_file:\n",
    "        print(line)\n",
    "        if line.startswith(\"This\"):\n",
    "            modified_line = line.replace(\"This\", \"That\", 1)\n",
    "            dest_file.write(modified_line)\n",
    "print(\"Lines starting with 'This' have been copied to 'dest.txt' with 'This' replaced by 'That'.\")\n"
   ]
  },
  {
   "cell_type": "code",
   "execution_count": 36,
   "metadata": {},
   "outputs": [
    {
     "name": "stdout",
     "output_type": "stream",
     "text": [
      "Lines starting with 'This' have been copied to 'dest.txt' with 'This' replaced by 'That'.\n"
     ]
    }
   ],
   "source": [
    "with open('test.txt', 'r') as source_file, open('dest3.txt', 'w') as dest_file:\n",
    "    dest_file.writelines(line.replace(\"This\",\"That\",1) for line in source_file)\n",
    "print(\"Lines starting with 'This' have been copied to 'dest.txt' with 'This' replaced by 'That'.\")"
   ]
  },
  {
   "cell_type": "code",
   "execution_count": 40,
   "metadata": {},
   "outputs": [
    {
     "name": "stdout",
     "output_type": "stream",
     "text": [
      "Ankana\n",
      "Atleast 8 characters\n",
      "Atleast one number\n",
      "Atleast one special character\n",
      "Ankana\n",
      "Atleast 8 characters\n",
      "Atleast one number\n",
      "Atleast one special character\n",
      "ankana\n",
      "Atleast 8 characters\n",
      "Atleast one capital letter\n",
      "Atleast one number\n",
      "Atleast one special character\n",
      "ankana05\n",
      "Atleast one capital letter\n",
      "Atleast one special character\n",
      "Ankana05\n",
      "Atleast one special character\n",
      "Ankana@03\n",
      "Valid password!\n"
     ]
    }
   ],
   "source": [
    "import re\n",
    "while True:\n",
    "    p=input('Enter password:')\n",
    "    print(p)\n",
    "    if len(p)<8: print('Atleast 8 characters')\n",
    "    if not re.search(r'[a-z]',p): print('Atleast one small letter')\n",
    "    if not re.search(r'[A-Z]',p): print('Atleast one capital letter')\n",
    "    if not re.search(r'[0-9]',p): print('Atleast one number')\n",
    "    if not re.search(r'\\W',p): print('Atleast one special character')\n",
    "    else: \n",
    "        print('Valid password!')\n",
    "        break"
   ]
  },
  {
   "cell_type": "code",
   "execution_count": 1,
   "metadata": {},
   "outputs": [
    {
     "name": "stdout",
     "output_type": "stream",
     "text": [
      "['', 'p', 'downable']\n"
     ]
    }
   ],
   "source": [
    "import re\n",
    "s = 'unputdownable'\n",
    "pat=re.compile('u\\w')\n",
    "print(pat.split(s))"
   ]
  },
  {
   "cell_type": "code",
   "execution_count": null,
   "metadata": {},
   "outputs": [
    {
     "name": "stdout",
     "output_type": "stream",
     "text": [
      "(0, 5)\n"
     ]
    }
   ],
   "source": [
    "import re\n",
    "s='engineering'\n",
    "mo=re.search('e\\w\\w\\w\\w',s)\n",
    "print(mo.span())"
   ]
  },
  {
   "cell_type": "code",
   "execution_count": 4,
   "metadata": {},
   "outputs": [
    {
     "name": "stdout",
     "output_type": "stream",
     "text": [
      "['a', 'b', 'c', 'd,e']\n"
     ]
    }
   ],
   "source": [
    "s='a,b,c,d,e'\n",
    "t= s.split(',',3)\n",
    "print(t)"
   ]
  },
  {
   "cell_type": "code",
   "execution_count": null,
   "metadata": {},
   "outputs": [],
   "source": []
  }
 ],
 "metadata": {
  "kernelspec": {
   "display_name": "Python 3",
   "language": "python",
   "name": "python3"
  },
  "language_info": {
   "codemirror_mode": {
    "name": "ipython",
    "version": 3
   },
   "file_extension": ".py",
   "mimetype": "text/x-python",
   "name": "python",
   "nbconvert_exporter": "python",
   "pygments_lexer": "ipython3",
   "version": "3.11.4"
  }
 },
 "nbformat": 4,
 "nbformat_minor": 2
}
