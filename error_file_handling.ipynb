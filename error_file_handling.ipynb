{
 "cells": [
  {
   "cell_type": "code",
   "execution_count": 1,
   "metadata": {},
   "outputs": [
    {
     "name": "stdout",
     "output_type": "stream",
     "text": [
      "Number of lines: 3\n",
      "Number of characters: 90\n"
     ]
    }
   ],
   "source": [
    "def count_lines_and_characters(file_path):\n",
    "    with open(file_path, 'r') as file:\n",
    "        lines = file.readlines()\n",
    "        num_lines = len(lines)\n",
    "        num_characters = sum(len(line) for line in lines)\n",
    "    return num_lines, num_characters\n",
    "\n",
    "file_path = 'eg1.txt'  # Replace with your file path\n",
    "lines, characters = count_lines_and_characters(file_path)\n",
    "print(f\"Number of lines: {lines}\")\n",
    "print(f\"Number of characters: {characters}\")\n"
   ]
  },
  {
   "cell_type": "code",
   "execution_count": 8,
   "metadata": {},
   "outputs": [
    {
     "name": "stdout",
     "output_type": "stream",
     "text": [
      "Contents copied from cities.txt to dest.txt successfully.\n"
     ]
    }
   ],
   "source": [
    "# Step 1: Create the cities.txt file\n",
    "with open('cities.txt', 'w') as file:\n",
    "    cities = [\"Kolkata\", \"Delhi\", \"Mumbai\", \"Chennai\", \"Bengaluru\", \"Patna\", \"Lucknow\", \"Hyderabad\", \"Gandhinagar\", \"Srinagar\"]\n",
    "    for city in cities:\n",
    "        file.write(city + '\\n')\n",
    "\n",
    "# Step 2: Take source and destination file names from the user\n",
    "source_file = input(\"Enter the source file name: \")\n",
    "destination_file = input(\"Enter the destination file name: \")\n",
    "\n",
    "# Step 3: Use exception handling to report FileNotFoundError\n",
    "try:\n",
    "    with open(source_file, 'r') as src:\n",
    "        content = src.read()\n",
    "    with open(destination_file, 'w') as dest:\n",
    "        dest.write(content)\n",
    "    print(f\"Contents copied from {source_file} to {destination_file} successfully.\")\n",
    "except FileNotFoundError:\n",
    "    print(f\"FileNotFoundError: The file '{source_file}' does not exist.\")\n"
   ]
  },
  {
   "cell_type": "code",
   "execution_count": 5,
   "metadata": {},
   "outputs": [
    {
     "name": "stdout",
     "output_type": "stream",
     "text": [
      "Error: Please enter valid numbers.\n"
     ]
    }
   ],
   "source": [
    "try:\n",
    "    n = input(\"Enter two numbers separated by a comma: \")\n",
    "    n1, n2 = map(int, n.split(','))\n",
    "    ans=n1/n2\n",
    "except ZeroDivisionError:\n",
    "    print('Error: Division by zero is not allowed!')\n",
    "except ValueError:\n",
    "    print(\"Error: Please enter valid numbers.\")\n",
    "except SyntaxError:\n",
    "    print(\"Error: Please enter the numbers separated by a comma.\")\n",
    "else:\n",
    "    print(f\"The quotient of the division is: {ans}\")\n"
   ]
  },
  {
   "cell_type": "code",
   "execution_count": 1,
   "metadata": {},
   "outputs": [
    {
     "name": "stdout",
     "output_type": "stream",
     "text": [
      "The temperature is too hot!\n"
     ]
    }
   ],
   "source": [
    "# Define custom exceptions\n",
    "class TooHot(Exception):\n",
    "    pass\n",
    "class TooCold(Exception):\n",
    "    pass\n",
    "try:\n",
    "    # Accept temperature input from the user\n",
    "    temperature = float(input(\"Enter the temperature: \"))\n",
    "    \n",
    "    # Check the temperature range\n",
    "    if temperature > 40:\n",
    "        raise TooHot(\"The temperature is too hot!\")\n",
    "    elif temperature < 20:\n",
    "        raise TooCold(\"The temperature is too cold!\")\n",
    "    else:\n",
    "        print(f\"The entered temperature is: {temperature} degrees\")        \n",
    "except TooHot as e:\n",
    "    print(e)\n",
    "except TooCold as e:\n",
    "    print(e)\n",
    "except ValueError:\n",
    "    print(\"Please enter a valid number for the temperature.\")\n"
   ]
  },
  {
   "cell_type": "code",
   "execution_count": 7,
   "metadata": {},
   "outputs": [
    {
     "name": "stdout",
     "output_type": "stream",
     "text": [
      "The number of bits for the Register field in the Instruction format is: 3\n"
     ]
    }
   ],
   "source": [
    "while True:\n",
    "    try:\n",
    "        x = int(input(\"Number of registers in the CPU: \"))\n",
    "        if 1 <= x <= 255:\n",
    "            break\n",
    "        else:\n",
    "            print(\"Please enter a number between 1 and 255.\")\n",
    "    except ValueError:\n",
    "        print(\"Invalid input! Please enter an integer.\")\n",
    "\n",
    "n = 0\n",
    "while (1 << n) < x:\n",
    "    n += 1\n",
    "\n",
    "print(f\"The number of bits for the Register field in the Instruction format is: {n}\")"
   ]
  },
  {
   "cell_type": "code",
   "execution_count": 4,
   "metadata": {},
   "outputs": [
    {
     "name": "stdout",
     "output_type": "stream",
     "text": [
      "Invalid input. Please enter a valid integer.\n",
      "Error: The number must be between 1 and 255. Please try again.\n",
      "The number of bits for the Register field in the Instruction format is: 3\n"
     ]
    }
   ],
   "source": [
    "import math\n",
    "\n",
    "def check_range(x):\n",
    "    if 1 <= x <= 255:\n",
    "        return True\n",
    "    else:\n",
    "        return False\n",
    "\n",
    "def find_n(x):\n",
    "    n = math.ceil(math.log2(x))\n",
    "    return n\n",
    "\n",
    "while True:\n",
    "    try:\n",
    "        x = int(input(\"Number of registers in the CPU: \"))\n",
    "\n",
    "        if check_range(x):\n",
    "            n = find_n(x)\n",
    "            print(f\"The number of bits for the Register field in the Instruction format is: {n}\")\n",
    "            break\n",
    "        else:\n",
    "            print(\"Error: The number must be between 1 and 255. Please try again.\")\n",
    "    except ValueError:\n",
    "        print(\"Invalid input. Please enter a valid integer.\")\n",
    "\n",
    "\n"
   ]
  }
 ],
 "metadata": {
  "kernelspec": {
   "display_name": "Python 3",
   "language": "python",
   "name": "python3"
  },
  "language_info": {
   "codemirror_mode": {
    "name": "ipython",
    "version": 3
   },
   "file_extension": ".py",
   "mimetype": "text/x-python",
   "name": "python",
   "nbconvert_exporter": "python",
   "pygments_lexer": "ipython3",
   "version": "3.11.4"
  }
 },
 "nbformat": 4,
 "nbformat_minor": 2
}
