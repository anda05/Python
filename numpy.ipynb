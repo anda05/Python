{
 "cells": [
  {
   "cell_type": "code",
   "execution_count": 2,
   "metadata": {},
   "outputs": [],
   "source": [
    "import numpy as np"
   ]
  },
  {
   "cell_type": "code",
   "execution_count": 5,
   "metadata": {},
   "outputs": [
    {
     "name": "stdout",
     "output_type": "stream",
     "text": [
      "[1 2 3 4 5 6]\n",
      "shape: (6,)\n",
      "dimension: 1\n",
      "data type: int32\n",
      "[[1 2 3]\n",
      " [4 5 6]]\n",
      "shape: (2, 3)\n",
      "dimension: 2\n",
      "data type: int32\n",
      "[[[1 2]\n",
      "  [3 4]]\n",
      "\n",
      " [[5 6]\n",
      "  [7 8]]]\n",
      "shape: (2, 2, 2)\n",
      "dimension: 3\n",
      "data type: int32\n"
     ]
    }
   ],
   "source": [
    "import numpy as np\n",
    "arr_1d=np.array([1,2,3,4,5,6])\n",
    "arr_2d=np.array([[1,2,3],[4,5,6]])\n",
    "arr_3d=np.array([[[1,2],[3,4]],[[5,6],[7,8]]])\n",
    "print(arr_1d)\n",
    "print('shape:',arr_1d.shape)\n",
    "print('dimension:',arr_1d.ndim)\n",
    "print('data type:',arr_1d.dtype)\n",
    "print(arr_2d)\n",
    "print('shape:',arr_2d.shape)\n",
    "print('dimension:',arr_2d.ndim)\n",
    "print('data type:',arr_2d.dtype)\n",
    "print(arr_3d)\n",
    "print('shape:',arr_3d.shape)\n",
    "print('dimension:',arr_3d.ndim)\n",
    "print('data type:',arr_3d.dtype)"
   ]
  },
  {
   "cell_type": "code",
   "execution_count": 13,
   "metadata": {},
   "outputs": [
    {
     "name": "stdout",
     "output_type": "stream",
     "text": [
      "1d to 2d:\n",
      " [[1 2 3 4]\n",
      " [5 6 7 8]]\n",
      "2d to 3d:\n",
      " [[[1 2]\n",
      "  [3 4]]\n",
      "\n",
      " [[5 6]\n",
      "  [7 8]]]\n",
      "reshaped 2d:\n",
      " [[1 2]\n",
      " [3 4]\n",
      " [5 6]\n",
      " [7 8]]\n"
     ]
    }
   ],
   "source": [
    "arr_1d=np.array([1,2,3,4,5,6,7,8])\n",
    "arr_2d=arr_1d.reshape(2,4)\n",
    "print('1d to 2d:\\n',arr_2d)\n",
    "arr_3d=arr_2d.reshape(2,2,2)\n",
    "print('2d to 3d:\\n',arr_3d)\n",
    "reshaped_2d=arr_2d.reshape(4,2)\n",
    "print('reshaped 2d:\\n',reshaped_2d)"
   ]
  },
  {
   "cell_type": "code",
   "execution_count": 8,
   "metadata": {},
   "outputs": [
    {
     "name": "stdout",
     "output_type": "stream",
     "text": [
      "[0. 0. 0. 0. 0. 0. 0. 0. 0. 0.]\n",
      "[[1 1 1 1 1]\n",
      " [1 1 1 1 1]]\n",
      "[[ 4  8 12 16 20]\n",
      " [24 28 32 36 40]\n",
      " [44 48 52 56 60]]\n",
      "0    1\n",
      "1    2\n",
      "2    3\n",
      "3    4\n",
      "4    1\n",
      "5    2\n",
      "6    3\n",
      "7    4\n",
      "dtype: int32\n"
     ]
    }
   ],
   "source": [
    "import pandas as pd\n",
    "arr1=np.zeros(10)\n",
    "print(arr1)\n",
    "arr2=np.ones((2,5), dtype=int)\n",
    "print(arr2)\n",
    "myarray2=np.arange(4,64,4,dtype=int).reshape(3,5)\n",
    "print(myarray2)\n",
    "arr=np.array([1,2,3,4])\n",
    "tiled_arr=np.tile(arr,2)\n",
    "series=pd.Series(tiled_arr)\n",
    "print(series)\n"
   ]
  },
  {
   "cell_type": "code",
   "execution_count": 37,
   "metadata": {},
   "outputs": [
    {
     "name": "stdout",
     "output_type": "stream",
     "text": [
      "[[3 1 2]\n",
      " [1 0 2]]\n",
      "[[1 1 1]\n",
      " [1 1 1]]\n",
      "[[ True False False]\n",
      " [False False False]]\n",
      "(2, 3)\n",
      "[1]\n"
     ]
    }
   ],
   "source": [
    "ranarr=np.random.randint(0,5,size=(2,3))\n",
    "print(ranarr)\n",
    "onearr=np.ones((2,3),dtype=int)\n",
    "print(onearr)\n",
    "boolarr= ranarr > 2\n",
    "print(boolarr)\n",
    "print(boolarr.shape)\n",
    "newarr=onearr[boolarr]\n",
    "print(newarr)"
   ]
  },
  {
   "cell_type": "code",
   "execution_count": 22,
   "metadata": {},
   "outputs": [
    {
     "name": "stdout",
     "output_type": "stream",
     "text": [
      "[[2 4 6]\n",
      " [3 5 8]]\n",
      "Enter the statistical operation:\n",
      "1.min\n",
      "2.max\n",
      "3.range\n",
      "4.percentile\n",
      "5.mean\n",
      "6.median\n",
      "7.variance\n",
      "8.std\n",
      "Minimum: 2\n",
      "Maximum: 8\n",
      "Range: 6\n",
      "70th Percentile: 5.5\n",
      "70th Percentile: 5.5\n",
      "Mean: 4.666666666666667\n",
      "Median: 4.5\n",
      "Variance: 3.888888888888889\n",
      "Standard Deviation: 1.9720265943665387\n",
      "Invalid operation!\n"
     ]
    }
   ],
   "source": [
    "import numpy as np\n",
    "rows = int(input(\"Enter number of rows: \"))\n",
    "cols = int(input(\"Enter number of columns: \"))\n",
    "m = np.zeros((rows, cols), dtype=int)\n",
    "for i in range(rows):\n",
    "    for j in range(cols):\n",
    "        m[i, j] = int(input(f\"Enter element ({i}, {j}): \"))\n",
    "n = np.sort(m, axis=1)\n",
    "p = np.sort(n, axis=0)\n",
    "print(p)\n",
    "print('Enter the statistical operation:\\n1.min\\n2.max\\n3.range\\n4.percentile\\n5.mean\\n6.median\\n7.variance\\n8.std')\n",
    "while True:\n",
    "    op = int(input(\"\\nEnter numerical choice: \"))\n",
    "    if op == 1:\n",
    "        print(\"Minimum:\", np.min(p))\n",
    "    elif op == 2:\n",
    "        print(\"Maximum:\", np.max(p))\n",
    "    elif op == 3:\n",
    "        print(\"Range:\", np.max(p) - np.min(p))\n",
    "    elif op == 4:\n",
    "        print(\"70th Percentile:\", np.percentile(p, 70))\n",
    "    elif op == 5:\n",
    "        print(\"Mean:\", np.mean(p))\n",
    "    elif op == 6:\n",
    "        print(\"Median:\", np.median(p))\n",
    "    elif op == 7:\n",
    "        print(\"Variance:\", np.var(p))\n",
    "    elif op == 8:\n",
    "        print(\"Standard Deviation:\", np.std(p))\n",
    "    else:\n",
    "        print(\"Invalid operation!\")\n",
    "        break"
   ]
  },
  {
   "cell_type": "code",
   "execution_count": 30,
   "metadata": {},
   "outputs": [
    {
     "name": "stdout",
     "output_type": "stream",
     "text": [
      "Original Matrix:\n",
      " [[2. 5. 3.]\n",
      " [7. 4. 8.]\n",
      " [4. 9. 2.]\n",
      " [0. 4. 7.]]\n",
      "Column Mean:\n",
      " [3.25 5.5  5.  ]\n",
      "Demeaned Columns:\n",
      " [[-1.25 -0.5  -2.  ]\n",
      " [ 3.75 -1.5   3.  ]\n",
      " [ 0.75  3.5  -3.  ]\n",
      " [-3.25 -1.5   2.  ]]\n"
     ]
    }
   ],
   "source": [
    "import numpy as np\n",
    "m = np.zeros((4,3), dtype=float)\n",
    "for i in range(4):\n",
    "    for j in range(3):\n",
    "        m[i, j] = int(input(f\"Enter element ({i}, {j}): \"))\n",
    "cm = m.mean(axis=0)\n",
    "demeancol = m - cm\n",
    "print(\"Original Matrix:\\n\", m)\n",
    "print(\"Column Mean:\\n\", cm)\n",
    "print(\"Demeaned Columns:\\n\", demeancol)\n"
   ]
  },
  {
   "cell_type": "code",
   "execution_count": 39,
   "metadata": {},
   "outputs": [
    {
     "name": "stdout",
     "output_type": "stream",
     "text": [
      "['a b c' 'b c d' 'c d e']\n"
     ]
    }
   ],
   "source": [
    "arr=np.array(['abc','bcd','cde'],dtype=np.str_)\n",
    "print(np.char.join(' ',arr))\n",
    "\n"
   ]
  },
  {
   "cell_type": "code",
   "execution_count": 40,
   "metadata": {},
   "outputs": [
    {
     "name": "stdout",
     "output_type": "stream",
     "text": [
      "equal? [ True  True False  True False False]\n",
      "not equal? [False False  True False  True  True]\n",
      "greater equal? [ True  True False  True False  True]\n",
      "greater? [False False False False False  True]\n",
      "less? [False False  True False  True False]\n"
     ]
    }
   ],
   "source": [
    "a1,a2=np.array([1,2,4,3,6,9]),np.array([1,2,5,3,8,7])\n",
    "print('equal?',a1==a2)\n",
    "print('not equal?',a1!=a2)\n",
    "print('greater equal?',a1>=a2)\n",
    "print('greater?',a1>a2)\n",
    "print('less?',a1<a2)"
   ]
  },
  {
   "cell_type": "code",
   "execution_count": 1,
   "metadata": {},
   "outputs": [
    {
     "name": "stdout",
     "output_type": "stream",
     "text": [
      "Matrix 1:\n",
      " [[1 2 3]\n",
      " [4 5 6]\n",
      " [7 8 9]]\n",
      "Matrix 2:\n",
      " [[9 8 7]\n",
      " [6 5 4]\n",
      " [3 2 1]]\n",
      "Addition:\n",
      " [[10 10 10]\n",
      " [10 10 10]\n",
      " [10 10 10]]\n",
      "Subtraction:\n",
      " [[-8 -6 -4]\n",
      " [-2  0  2]\n",
      " [ 4  6  8]]\n",
      "Multiplication:\n",
      " [[ 9 16 21]\n",
      " [24 25 24]\n",
      " [21 16  9]]\n",
      "Matrix Multiplication:\n",
      " [[ 30  24  18]\n",
      " [ 84  69  54]\n",
      " [138 114  90]]\n",
      "Division:\n",
      " [[0.11111111 0.25       0.42857143]\n",
      " [0.66666667 1.         1.5       ]\n",
      " [2.33333333 4.         9.        ]]\n",
      "Transpose of Matrix 1:\n",
      " [[1 4 7]\n",
      " [2 5 8]\n",
      " [3 6 9]]\n",
      "Transpose of Matrix 2:\n",
      " [[9 6 3]\n",
      " [8 5 2]\n",
      " [7 4 1]]\n"
     ]
    }
   ],
   "source": [
    "import numpy as np\n",
    "m1 = np.array([[1, 2, 3], [4, 5, 6], [7, 8, 9]])\n",
    "m2 = np.array([[9, 8, 7], [6, 5, 4], [3, 2, 1]])\n",
    "print(\"Matrix 1:\\n\", m1)\n",
    "print(\"Matrix 2:\\n\", m2)\n",
    "print(\"Addition:\\n\", m1+m2)\n",
    "print(\"Subtraction:\\n\", m1-m2)\n",
    "print(\"Multiplication:\\n\", m1*m2)\n",
    "print(\"Matrix Multiplication:\\n\", m1@m2)\n",
    "print(\"Division:\\n\", m1/m2)\n",
    "print(\"Transpose of Matrix 1:\\n\", m1.T)\n",
    "print(\"Transpose of Matrix 2:\\n\", m2.T)"
   ]
  },
  {
   "cell_type": "code",
   "execution_count": null,
   "metadata": {},
   "outputs": [],
   "source": []
  }
 ],
 "metadata": {
  "kernelspec": {
   "display_name": "Python 3",
   "language": "python",
   "name": "python3"
  },
  "language_info": {
   "codemirror_mode": {
    "name": "ipython",
    "version": 3
   },
   "file_extension": ".py",
   "mimetype": "text/x-python",
   "name": "python",
   "nbconvert_exporter": "python",
   "pygments_lexer": "ipython3",
   "version": "3.11.4"
  }
 },
 "nbformat": 4,
 "nbformat_minor": 2
}
